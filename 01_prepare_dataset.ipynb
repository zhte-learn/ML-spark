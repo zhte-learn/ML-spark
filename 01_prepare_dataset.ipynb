{
  "nbformat": 4,
  "nbformat_minor": 0,
  "metadata": {
    "colab": {
      "provenance": []
    },
    "kernelspec": {
      "name": "python3",
      "display_name": "Python 3"
    },
    "language_info": {
      "name": "python"
    }
  },
  "cells": [
    {
      "cell_type": "code",
      "execution_count": null,
      "metadata": {
        "id": "p9m-yeRgcMth"
      },
      "outputs": [],
      "source": [
        "from pyspark.sql import SparkSession\n",
        "spark = SparkSession.builder.appName('DLD_project').getOrCreate()"
      ]
    },
    {
      "cell_type": "code",
      "source": [
        "! gdown --id 1JlH4R3OQe_h8ANell6dNhU8I1u_dLe7F"
      ],
      "metadata": {
        "colab": {
          "base_uri": "https://localhost:8080/"
        },
        "id": "BNR9Zs3-cSqj",
        "outputId": "7be5d449-f8b6-46f3-93ac-78bc7eac4eea"
      },
      "execution_count": null,
      "outputs": [
        {
          "output_type": "stream",
          "name": "stdout",
          "text": [
            "/usr/local/lib/python3.11/dist-packages/gdown/__main__.py:140: FutureWarning: Option `--id` was deprecated in version 4.3.1 and will be removed in 5.0. You don't need to pass it anymore to use a file ID.\n",
            "  warnings.warn(\n",
            "Downloading...\n",
            "From (original): https://drive.google.com/uc?id=1JlH4R3OQe_h8ANell6dNhU8I1u_dLe7F\n",
            "From (redirected): https://drive.google.com/uc?id=1JlH4R3OQe_h8ANell6dNhU8I1u_dLe7F&confirm=t&uuid=c614f9f1-3860-4780-bd27-3fc603198d31\n",
            "To: /content/Transactions.csv\n",
            "100% 841M/841M [00:13<00:00, 63.4MB/s]\n"
          ]
        }
      ]
    },
    {
      "cell_type": "code",
      "source": [
        "df = spark.read.csv('Transactions.csv', header=True, escape=\"\\\"\")"
      ],
      "metadata": {
        "id": "15S4N9nRcUjK"
      },
      "execution_count": null,
      "outputs": []
    },
    {
      "cell_type": "markdown",
      "source": [
        "\n",
        "\n",
        "drop columns with data in arabic and not relevant data\n",
        "\n",
        "Also to drop:\n",
        "\n",
        "'rent_value' as there are many null values there (more than 80%);\n",
        "\n",
        "'meter_sale_price' as it can be calculated from 'actual_worth' and 'procedure_area'\n",
        "\n",
        "'instance_date' - do not need this feature for a model training\n",
        "\n",
        "'trans_group_en' - do not need this feature for a model training\n",
        "\n",
        "'procedure_name_en' - do not need this feature for a model training\n",
        "\n",
        "'property_usage_en' - can be dropped as already used for filtering, no need for model training\n",
        "\n",
        "'building_name_en', 'project_name_en', 'master_project_en' - many null values, can't replace\n",
        "\n",
        "'nearest_landmark_en' - no idea how to replace missing values\n",
        "\n",
        "'nearest_mall_en' - a few existing options, can't replace missing values without a proper research"
      ],
      "metadata": {
        "id": "UXSJzUd4ccgY"
      }
    },
    {
      "cell_type": "code",
      "source": [
        "from pyspark.sql import functions as F"
      ],
      "metadata": {
        "id": "Ap7fcI0Fce91"
      },
      "execution_count": null,
      "outputs": []
    },
    {
      "cell_type": "code",
      "source": [
        "df_updated = df.drop('no_of_parties_role_1',\n",
        "                     'no_of_parties_role_2',\n",
        "                     'no_of_parties_role_3',\n",
        "                     'rooms_ar',\n",
        "                     'nearest_mall_ar',\n",
        "                     'nearest_landmark_ar',\n",
        "                     'master_project_ar',\n",
        "                     'project_name_ar',\n",
        "                     'building_name_ar',\n",
        "                     'trans_group_ar',\n",
        "                     'procedure_name_ar',\n",
        "                     'property_type_ar',\n",
        "                     'property_sub_type_ar',\n",
        "                     'property_usage_ar',\n",
        "                     'reg_type_ar',\n",
        "                     'area_name_ar',\n",
        "                     'nearest_metro_ar',\n",
        "                     'transaction_id',\n",
        "                     'procedure_id',\n",
        "                     'trans_group_id',\n",
        "                     'meter_rent_price',\n",
        "                     'property_type_id',\n",
        "                     'property_sub_type_id',\n",
        "                     'reg_type_id',\n",
        "                     'area_id',\n",
        "                     'project_number',\n",
        "                     'rent_value',\n",
        "                     'meter_sale_price',\n",
        "                     'instance_date',\n",
        "                     'trans_group_en',\n",
        "                     'procedure_name_en',\n",
        "                     'property_usage_en',\n",
        "                     'building_name_en',\n",
        "                     'project_name_en',\n",
        "                     'master_project_en',\n",
        "                     'nearest_landmark_en',\n",
        "                     'nearest_mall_en')"
      ],
      "metadata": {
        "id": "RtqoI9Kmcg1m"
      },
      "execution_count": null,
      "outputs": []
    },
    {
      "cell_type": "code",
      "source": [
        "df_updated.show(5,0)"
      ],
      "metadata": {
        "colab": {
          "base_uri": "https://localhost:8080/"
        },
        "id": "GGBykr8qcnmk",
        "outputId": "739ddbff-1b68-4d21-ca16-445f5cd188b0"
      },
      "execution_count": null,
      "outputs": [
        {
          "output_type": "stream",
          "name": "stdout",
          "text": [
            "+----------------+--------------------+-------------------+------------+-----------------------------+--------+-----------+--------------+------------+\n",
            "|property_type_en|property_sub_type_en|reg_type_en        |area_name_en|nearest_metro_en             |rooms_en|has_parking|procedure_area|actual_worth|\n",
            "+----------------+--------------------+-------------------+------------+-----------------------------+--------+-----------+--------------+------------+\n",
            "|Villa           |NULL                |Existing Properties|Mankhool    |ADCB Metro Station           |NULL    |0          |1305.29       |5769000.00  |\n",
            "|Land            |NULL                |Existing Properties|Al Hudaiba  |ADCB Metro Station           |NULL    |0          |1466.94       |1105300.00  |\n",
            "|Villa           |NULL                |Existing Properties|Al Bada     |Emirates Towers Metro Station|NULL    |0          |390.00        |2089900.00  |\n",
            "|Villa           |NULL                |Existing Properties|Al Bada     |Trade Centre Metro Station   |NULL    |0          |396.09        |511612.00   |\n",
            "|Villa           |NULL                |Existing Properties|Al Bada     |Emirates Towers Metro Station|NULL    |0          |362.32        |1500000.00  |\n",
            "+----------------+--------------------+-------------------+------------+-----------------------------+--------+-----------+--------------+------------+\n",
            "only showing top 5 rows\n",
            "\n"
          ]
        }
      ]
    },
    {
      "cell_type": "code",
      "source": [
        "# casting types for some columns\n",
        "from pyspark.sql.types import *\n",
        "\n",
        "df_casted = df_updated \\\n",
        "    .withColumn('has_parking', F.col('has_parking').cast(DoubleType())) \\\n",
        "    .withColumn('procedure_area', F.col('procedure_area').cast(DoubleType())) \\\n",
        "    .withColumn('actual_worth', F.col('actual_worth').cast(DoubleType()))"
      ],
      "metadata": {
        "id": "aVPaFzh4cuxg"
      },
      "execution_count": null,
      "outputs": []
    },
    {
      "cell_type": "markdown",
      "source": [
        "There are no null values in a 'property_type' column, but 293518 null values in 'property_sub_type'. We can replace null values in 'property_sub_type' with values from 'property_type'"
      ],
      "metadata": {
        "id": "37LssNfpcw0H"
      }
    },
    {
      "cell_type": "code",
      "source": [
        "df_casted.filter(df_casted['property_sub_type_en'].isNull()).count()"
      ],
      "metadata": {
        "colab": {
          "base_uri": "https://localhost:8080/"
        },
        "id": "b7UxtsXOcxbj",
        "outputId": "966d65b3-1cc8-43d1-b288-c9095dd13ecc"
      },
      "execution_count": null,
      "outputs": [
        {
          "output_type": "execute_result",
          "data": {
            "text/plain": [
              "293518"
            ]
          },
          "metadata": {},
          "execution_count": 70
        }
      ]
    },
    {
      "cell_type": "code",
      "source": [
        "df_casted.select('property_type_en').distinct().show()"
      ],
      "metadata": {
        "colab": {
          "base_uri": "https://localhost:8080/"
        },
        "id": "RS2Grkc-c6fQ",
        "outputId": "74327897-6948-4f1c-db25-d064677bd245"
      },
      "execution_count": null,
      "outputs": [
        {
          "output_type": "stream",
          "name": "stdout",
          "text": [
            "+----------------+\n",
            "|property_type_en|\n",
            "+----------------+\n",
            "|           Villa|\n",
            "|            Land|\n",
            "|            Unit|\n",
            "|        Building|\n",
            "+----------------+\n",
            "\n"
          ]
        }
      ]
    },
    {
      "cell_type": "code",
      "source": [
        "# replace null values in sub_types with the main property type\n",
        "df_casted = df_casted.withColumn(\n",
        "    'property_sub_type_en',\n",
        "    F.when(F.col('property_sub_type_en').isNull(), F.col('property_type_en')).otherwise(F.col('property_sub_type_en'))\n",
        ")"
      ],
      "metadata": {
        "id": "EU7MYUGZc9Vm"
      },
      "execution_count": null,
      "outputs": []
    },
    {
      "cell_type": "code",
      "source": [
        "df_casted.select('property_sub_type_en').distinct().show()"
      ],
      "metadata": {
        "colab": {
          "base_uri": "https://localhost:8080/"
        },
        "id": "KwC-dCSSdCdT",
        "outputId": "b065f799-c8bd-407f-95cb-9162ee54bf44"
      },
      "execution_count": null,
      "outputs": [
        {
          "output_type": "stream",
          "name": "stdout",
          "text": [
            "+--------------------+\n",
            "|property_sub_type_en|\n",
            "+--------------------+\n",
            "|             Parking|\n",
            "|     Hotel Apartment|\n",
            "|              Office|\n",
            "|                Flat|\n",
            "|  Stacked Townhouses|\n",
            "|                Shop|\n",
            "|               Villa|\n",
            "|            Workshop|\n",
            "|                Land|\n",
            "|           Gymnasium|\n",
            "|               Store|\n",
            "|               Hotel|\n",
            "|           Warehouse|\n",
            "|     Sized Partition|\n",
            "|              Clinic|\n",
            "|         Hotel Rooms|\n",
            "|          Show Rooms|\n",
            "|            Building|\n",
            "+--------------------+\n",
            "\n"
          ]
        }
      ]
    },
    {
      "cell_type": "markdown",
      "source": [
        "To optimize and minimize the dataset, remove commercial properties and land, retaining only residential properties (Flat, Hotel Apartment, Villa, Hotel Rooms, townhouses, etc.)."
      ],
      "metadata": {
        "id": "ZJeRRgSBdEm_"
      }
    },
    {
      "cell_type": "code",
      "source": [
        "# number of row before removing commercial properties\n",
        "df_casted.count()"
      ],
      "metadata": {
        "colab": {
          "base_uri": "https://localhost:8080/"
        },
        "id": "g6JUw30CdFaU",
        "outputId": "d1746763-4ef5-4937-bee7-9dd9890c9d16"
      },
      "execution_count": null,
      "outputs": [
        {
          "output_type": "execute_result",
          "data": {
            "text/plain": [
              "1372761"
            ]
          },
          "metadata": {},
          "execution_count": 12
        }
      ]
    },
    {
      "cell_type": "code",
      "source": [
        "# filtering, leaving only residential types without Land\n",
        "df_res = df_casted.filter(\n",
        "    (F.col('property_usage_en') == 'Residential') &\n",
        "    (F.col('property_type_en') != 'Land')\n",
        ")"
      ],
      "metadata": {
        "id": "-bKPv-N4dIAo"
      },
      "execution_count": null,
      "outputs": []
    },
    {
      "cell_type": "code",
      "source": [
        "# number of rows of dataset containing only residental prolerties without Land\n",
        "df_res.count()"
      ],
      "metadata": {
        "colab": {
          "base_uri": "https://localhost:8080/"
        },
        "id": "d92LdV6HdLzt",
        "outputId": "02f6352b-d251-4852-afcd-87e487759f93"
      },
      "execution_count": null,
      "outputs": [
        {
          "output_type": "execute_result",
          "data": {
            "text/plain": [
              "1106675"
            ]
          },
          "metadata": {},
          "execution_count": 73
        }
      ]
    },
    {
      "cell_type": "code",
      "source": [
        "df_res.select('property_type_en').distinct().show()"
      ],
      "metadata": {
        "colab": {
          "base_uri": "https://localhost:8080/"
        },
        "id": "FBnMNk-EdOFD",
        "outputId": "5f029c5c-d2f2-4655-a7e7-dbca28d54967"
      },
      "execution_count": null,
      "outputs": [
        {
          "output_type": "stream",
          "name": "stdout",
          "text": [
            "+----------------+\n",
            "|property_type_en|\n",
            "+----------------+\n",
            "|           Villa|\n",
            "|            Unit|\n",
            "|        Building|\n",
            "+----------------+\n",
            "\n"
          ]
        }
      ]
    },
    {
      "cell_type": "code",
      "source": [
        "df_res.select('property_sub_type_en').distinct().show()"
      ],
      "metadata": {
        "colab": {
          "base_uri": "https://localhost:8080/"
        },
        "id": "ae_hy8SZdRBC",
        "outputId": "6733c700-9f3a-4c3e-f51e-ec3d616c799d"
      },
      "execution_count": null,
      "outputs": [
        {
          "output_type": "stream",
          "name": "stdout",
          "text": [
            "+--------------------+\n",
            "|property_sub_type_en|\n",
            "+--------------------+\n",
            "|                Flat|\n",
            "|  Stacked Townhouses|\n",
            "|               Villa|\n",
            "|            Building|\n",
            "+--------------------+\n",
            "\n"
          ]
        }
      ]
    },
    {
      "cell_type": "code",
      "source": [
        "df_res.groupBy('property_type_en').count().show()"
      ],
      "metadata": {
        "colab": {
          "base_uri": "https://localhost:8080/"
        },
        "id": "ZcWM6Y6jdpUn",
        "outputId": "bb982942-cfc8-4d33-d45b-ba9eae80ffcb"
      },
      "execution_count": null,
      "outputs": [
        {
          "output_type": "stream",
          "name": "stdout",
          "text": [
            "+----------------+------+\n",
            "|property_type_en| count|\n",
            "+----------------+------+\n",
            "|           Villa|254713|\n",
            "|            Unit|839539|\n",
            "|        Building| 12423|\n",
            "+----------------+------+\n",
            "\n"
          ]
        }
      ]
    },
    {
      "cell_type": "code",
      "source": [
        "df_res.groupBy('property_sub_type_en').count().show()"
      ],
      "metadata": {
        "colab": {
          "base_uri": "https://localhost:8080/"
        },
        "id": "saOZfva_dkBE",
        "outputId": "8bf19dd1-3926-4abe-c720-8391789f95d8"
      },
      "execution_count": null,
      "outputs": [
        {
          "output_type": "stream",
          "name": "stdout",
          "text": [
            "+--------------------+------+\n",
            "|property_sub_type_en| count|\n",
            "+--------------------+------+\n",
            "|                Flat|839071|\n",
            "|  Stacked Townhouses|   468|\n",
            "|               Villa|254713|\n",
            "|            Building| 12423|\n",
            "+--------------------+------+\n",
            "\n"
          ]
        }
      ]
    },
    {
      "cell_type": "markdown",
      "source": [
        "Imbalanced datasets because there are a few classes with much more data than others. Townhouses category is very small and doesn't provide useful predictive power => exclude it to simplify the model. Moreover, the townhouses that are presented in a dataset are all located in one area \"Madinat Al Mataar\", so this data is not representative.\n",
        "The same solution for Buidings."
      ],
      "metadata": {
        "id": "EneTEKw0d_rU"
      }
    },
    {
      "cell_type": "code",
      "source": [
        "df_res = df_res.filter((df_res.property_sub_type_en != 'Building') & (df_res.property_sub_type_en != 'Stacked Townhouses'))"
      ],
      "metadata": {
        "id": "AzJevitFez61"
      },
      "execution_count": null,
      "outputs": []
    },
    {
      "cell_type": "code",
      "source": [
        "df_res.groupBy('property_sub_type_en').count().show()"
      ],
      "metadata": {
        "colab": {
          "base_uri": "https://localhost:8080/"
        },
        "id": "a6PZLoB0gP0P",
        "outputId": "d1969b67-0fca-4a40-91dd-f61379ae0f21"
      },
      "execution_count": null,
      "outputs": [
        {
          "output_type": "stream",
          "name": "stdout",
          "text": [
            "+--------------------+------+\n",
            "|property_sub_type_en| count|\n",
            "+--------------------+------+\n",
            "|                Flat|839071|\n",
            "|               Villa|254713|\n",
            "+--------------------+------+\n",
            "\n"
          ]
        }
      ]
    },
    {
      "cell_type": "code",
      "source": [
        "# helper function to calculate and print number of null values, and number of distinct values in every column of dataset\n",
        "def get_col_info(df, cols):\n",
        "    for c in cols:\n",
        "        nulls = df.filter(df[c].isNull()).count()\n",
        "        dist = df.select(c).distinct().count()\n",
        "        print(f'{c}: null values={nulls}; distinct values={dist}')\n",
        "\n",
        "get_col_info(df_res, df_res.columns)"
      ],
      "metadata": {
        "colab": {
          "base_uri": "https://localhost:8080/"
        },
        "id": "bGgBff0agVH6",
        "outputId": "f5052f57-ae04-4904-b90f-20e8fa633166"
      },
      "execution_count": null,
      "outputs": [
        {
          "output_type": "stream",
          "name": "stdout",
          "text": [
            "property_sub_type_en: null values=0; distinct values=2\n",
            "reg_type_en: null values=0; distinct values=2\n",
            "area_name_en: null values=0; distinct values=133\n",
            "nearest_metro_en: null values=0; distinct values=2\n",
            "rooms_en: null values=134425; distinct values=13\n",
            "has_parking: null values=0; distinct values=2\n",
            "procedure_area: null values=0; distinct values=56138\n",
            "actual_worth: null values=0; distinct values=234517\n"
          ]
        }
      ]
    },
    {
      "cell_type": "markdown",
      "source": [
        "There are **134 425** null values in 'rooms_en' column.\n",
        "\n",
        "Solution for replacing null values in 'rooms_en' column: calculate the average area for each room type and use the corresponding average value to fill in the missing entries"
      ],
      "metadata": {
        "id": "6_tdH5qhgZnt"
      }
    },
    {
      "cell_type": "code",
      "source": [
        "df_res.select('rooms_en').distinct().show()"
      ],
      "metadata": {
        "colab": {
          "base_uri": "https://localhost:8080/"
        },
        "id": "Z1xIzgnwhcji",
        "outputId": "724fb74f-6eaa-4c84-f575-2770420f81ce"
      },
      "execution_count": null,
      "outputs": [
        {
          "output_type": "stream",
          "name": "stdout",
          "text": [
            "+-----------+\n",
            "|   rooms_en|\n",
            "+-----------+\n",
            "|      4 B/R|\n",
            "|Single Room|\n",
            "|     Studio|\n",
            "|      5 B/R|\n",
            "|      8 B/R|\n",
            "|      6 B/R|\n",
            "|  PENTHOUSE|\n",
            "|      3 B/R|\n",
            "|      2 B/R|\n",
            "|      7 B/R|\n",
            "|      9 B/R|\n",
            "|      1 B/R|\n",
            "|       NULL|\n",
            "+-----------+\n",
            "\n"
          ]
        }
      ]
    },
    {
      "cell_type": "markdown",
      "source": [
        "Remove types (Shop, Office) not related to 'residential property' scope."
      ],
      "metadata": {
        "id": "7c-9Ab2LhgUE"
      }
    },
    {
      "cell_type": "code",
      "source": [
        "df_res = df_res.filter(\n",
        "    (F.col('rooms_en').isNull()) |  # keep null values\n",
        "    ((F.col('rooms_en') != 'Office') & (F.col('rooms_en') != 'Shop'))  # keep rows that are not Shop or Office\n",
        ")"
      ],
      "metadata": {
        "id": "L-3Kzwgphh6-"
      },
      "execution_count": null,
      "outputs": []
    },
    {
      "cell_type": "code",
      "source": [
        "df_res.select('rooms_en').distinct().show()"
      ],
      "metadata": {
        "colab": {
          "base_uri": "https://localhost:8080/"
        },
        "id": "xGLu1nalhlKk",
        "outputId": "b2b48edf-3f1f-4e26-a64f-df8503826059"
      },
      "execution_count": null,
      "outputs": [
        {
          "output_type": "stream",
          "name": "stdout",
          "text": [
            "+-----------+\n",
            "|   rooms_en|\n",
            "+-----------+\n",
            "|      4 B/R|\n",
            "|Single Room|\n",
            "|     Studio|\n",
            "|      5 B/R|\n",
            "|      8 B/R|\n",
            "|      6 B/R|\n",
            "|  PENTHOUSE|\n",
            "|      3 B/R|\n",
            "|      2 B/R|\n",
            "|      7 B/R|\n",
            "|      9 B/R|\n",
            "|      1 B/R|\n",
            "|       NULL|\n",
            "+-----------+\n",
            "\n"
          ]
        }
      ]
    },
    {
      "cell_type": "code",
      "source": [
        "# calculate the average area for each room type\n",
        "avg_area_df = df_res.filter(df_res['rooms_en'].isNotNull()) \\\n",
        "                    .groupBy('rooms_en') \\\n",
        "                    .agg(F.avg('procedure_area').alias('avg_area'))\n",
        "\n",
        "# sort avg_area_df for further processing\n",
        "avg_area_df_sorted = avg_area_df.orderBy(F.desc('avg_area'))\n",
        "avg_area_df_sorted.show()"
      ],
      "metadata": {
        "colab": {
          "base_uri": "https://localhost:8080/"
        },
        "id": "AyTE8LF4hte5",
        "outputId": "7802ef7c-3538-4568-ced8-1827d2bfee27"
      },
      "execution_count": null,
      "outputs": [
        {
          "output_type": "stream",
          "name": "stdout",
          "text": [
            "+-----------+------------------+\n",
            "|   rooms_en|          avg_area|\n",
            "+-----------+------------------+\n",
            "|      9 B/R|          2828.515|\n",
            "|      7 B/R|1583.0283333333334|\n",
            "|      6 B/R|1049.9902554744526|\n",
            "|      8 B/R| 801.8000000000001|\n",
            "|      5 B/R| 518.8067733990149|\n",
            "|  PENTHOUSE|344.31973840665876|\n",
            "|      4 B/R|327.52280948801814|\n",
            "|      3 B/R|219.18291627881527|\n",
            "|      2 B/R|131.87911753604675|\n",
            "|      1 B/R| 77.07534010943839|\n",
            "|     Studio|43.728562335340605|\n",
            "|Single Room|11.600964467005078|\n",
            "+-----------+------------------+\n",
            "\n"
          ]
        }
      ]
    },
    {
      "cell_type": "code",
      "source": [
        "# prepare arrays for further processing\n",
        "data = avg_area_df_sorted.collect()\n",
        "rooms_types = [row['rooms_en'] for row in data]\n",
        "avg_areas = [row['avg_area'] for row in data]\n",
        "print(rooms_types)\n",
        "print(avg_areas)"
      ],
      "metadata": {
        "colab": {
          "base_uri": "https://localhost:8080/"
        },
        "id": "CQezcFSdhhVb",
        "outputId": "d45e5cb6-a747-4574-adf5-9aa81281dbd5"
      },
      "execution_count": null,
      "outputs": [
        {
          "output_type": "stream",
          "name": "stdout",
          "text": [
            "['9 B/R', '7 B/R', '6 B/R', '8 B/R', '5 B/R', 'PENTHOUSE', '4 B/R', '3 B/R', '2 B/R', '1 B/R', 'Studio', 'Single Room']\n",
            "[2828.515, 1583.0283333333334, 1049.9902554744526, 801.8000000000001, 518.8067733990149, 344.31973840665876, 327.52280948801814, 219.18291627881527, 131.87911753604675, 77.07534010943839, 43.728562335340605, 11.600964467005078]\n"
          ]
        }
      ]
    },
    {
      "cell_type": "code",
      "source": [
        "# fill null values with corresponding average value by number of rooms\n",
        "def assign_room_type(area):\n",
        "    if area is None:\n",
        "        return rooms_types[-1]\n",
        "    for avg_area, room_type in zip(avg_areas, rooms_types):\n",
        "        if area > avg_area:\n",
        "            return room_type\n",
        "    return rooms_types[-1]"
      ],
      "metadata": {
        "id": "frgStadhhfRZ"
      },
      "execution_count": null,
      "outputs": []
    },
    {
      "cell_type": "code",
      "source": [
        "# for testing\n",
        "print(assign_room_type(44.67))"
      ],
      "metadata": {
        "colab": {
          "base_uri": "https://localhost:8080/"
        },
        "id": "XwjZqBZyh7qS",
        "outputId": "aca0ebe9-d5b1-4d7d-8b02-6a6b3d871b1b"
      },
      "execution_count": null,
      "outputs": [
        {
          "output_type": "stream",
          "name": "stdout",
          "text": [
            "Studio\n"
          ]
        }
      ]
    },
    {
      "cell_type": "code",
      "source": [
        "# assign user defined function\n",
        "assign_room_type_udf = F.udf(assign_room_type, StringType())\n",
        "\n",
        "# update dataset filling null values in 'rooms_en' column\n",
        "df_res = df_res.withColumn(\n",
        "    'rooms_en',\n",
        "    F.when(F.col('rooms_en').isNull(), assign_room_type_udf(F.col('procedure_area')))\n",
        "    .otherwise(F.col('rooms_en'))\n",
        ")"
      ],
      "metadata": {
        "id": "rPE8iPm9-fkB"
      },
      "execution_count": null,
      "outputs": []
    },
    {
      "cell_type": "code",
      "source": [
        "df_res.filter(df_res['rooms_en'].isNull()).count()"
      ],
      "metadata": {
        "colab": {
          "base_uri": "https://localhost:8080/"
        },
        "id": "_-gOZ4XG-u3C",
        "outputId": "99422f18-86b6-4674-c68b-6b3fb0613f3e"
      },
      "execution_count": null,
      "outputs": [
        {
          "output_type": "execute_result",
          "data": {
            "text/plain": [
              "0"
            ]
          },
          "metadata": {},
          "execution_count": 80
        }
      ]
    },
    {
      "cell_type": "markdown",
      "source": [
        "There are **270 424** null values in 'nearest_metro_en' column.\n",
        "\n",
        "\n",
        "Solution for replacing null values in 'nearest_metro_en' column: assign a value of 0 for nulls (indicating no metro nearby) and a value of 1 for existing string values (indicating a metro station is nearby)"
      ],
      "metadata": {
        "id": "vni1O1S5hOoG"
      }
    },
    {
      "cell_type": "code",
      "source": [
        "df_res = df_res.withColumn(\n",
        "    'nearest_metro_en',\n",
        "    F.when(F.col('nearest_metro_en').isNull(), 0)\n",
        "    .otherwise(1)\n",
        ")"
      ],
      "metadata": {
        "id": "cj7R0WFtgVqR"
      },
      "execution_count": null,
      "outputs": []
    },
    {
      "cell_type": "code",
      "source": [
        "df_res = df_res.withColumn('nearest_metro_en', F.col('nearest_metro_en').cast(DoubleType()))"
      ],
      "metadata": {
        "id": "cVkvh6G4iJNp"
      },
      "execution_count": null,
      "outputs": []
    },
    {
      "cell_type": "code",
      "source": [
        "# drop column 'property_type_en' as we are planning to use property subtype for training\n",
        "df_res = df_res.drop('property_type_en')"
      ],
      "metadata": {
        "id": "yu9bAnQGiLOu"
      },
      "execution_count": null,
      "outputs": []
    },
    {
      "cell_type": "code",
      "source": [
        "df_res.show(10)"
      ],
      "metadata": {
        "colab": {
          "base_uri": "https://localhost:8080/"
        },
        "id": "QVy6dgkiiU7n",
        "outputId": "857e9b74-aa18-4639-8600-4a699e5e6381"
      },
      "execution_count": null,
      "outputs": [
        {
          "output_type": "stream",
          "name": "stdout",
          "text": [
            "+--------------------+-------------------+------------+----------------+---------+-----------+--------------+------------+\n",
            "|property_sub_type_en|        reg_type_en|area_name_en|nearest_metro_en| rooms_en|has_parking|procedure_area|actual_worth|\n",
            "+--------------------+-------------------+------------+----------------+---------+-----------+--------------+------------+\n",
            "|               Villa|Existing Properties|    Mankhool|             1.0|    6 B/R|        0.0|       1305.29|   5769000.0|\n",
            "|               Villa|Existing Properties|     Al Bada|             1.0|PENTHOUSE|        0.0|         390.0|   2089900.0|\n",
            "|               Villa|Existing Properties|     Al Bada|             1.0|PENTHOUSE|        0.0|        396.09|    511612.0|\n",
            "|               Villa|Existing Properties|     Al Bada|             1.0|PENTHOUSE|        0.0|        362.32|   1500000.0|\n",
            "|               Villa|Existing Properties|    Al Satwa|             1.0|    3 B/R|        0.0|        239.23|   3000000.0|\n",
            "|               Villa|Existing Properties|Nad Al Hamar|             1.0|    6 B/R|        0.0|       1393.55|    690000.0|\n",
            "|               Villa|Existing Properties|Nad Al Hamar|             1.0|    7 B/R|        0.0|       2053.16|    500000.0|\n",
            "|               Villa|Existing Properties|Nad Al Hamar|             1.0|    6 B/R|        0.0|       1114.84|    570000.0|\n",
            "|               Villa|Existing Properties|Nad Al Hamar|             1.0|    6 B/R|        0.0|       1374.96|    300000.0|\n",
            "|               Villa|Existing Properties|  Al Garhoud|             1.0|    8 B/R|        0.0|        929.03|   5500000.0|\n",
            "+--------------------+-------------------+------------+----------------+---------+-----------+--------------+------------+\n",
            "only showing top 10 rows\n",
            "\n"
          ]
        }
      ]
    },
    {
      "cell_type": "markdown",
      "source": [
        "**Data Analysis**"
      ],
      "metadata": {
        "id": "3WyXBxAaCAlJ"
      }
    },
    {
      "cell_type": "code",
      "source": [
        "df_res.select(\"actual_worth\").describe().show()"
      ],
      "metadata": {
        "colab": {
          "base_uri": "https://localhost:8080/"
        },
        "id": "kiTmSn_2B7yc",
        "outputId": "833260f4-75e6-4574-ad0a-32baad5937c5"
      },
      "execution_count": null,
      "outputs": [
        {
          "output_type": "stream",
          "name": "stdout",
          "text": [
            "+-------+------------------+\n",
            "|summary|      actual_worth|\n",
            "+-------+------------------+\n",
            "|  count|           1093739|\n",
            "|   mean|1909729.5830751213|\n",
            "| stddev| 4723449.052561656|\n",
            "|    min|               1.0|\n",
            "|    max|     3.013326074E9|\n",
            "+-------+------------------+\n",
            "\n"
          ]
        }
      ]
    },
    {
      "cell_type": "code",
      "source": [
        "quantiles = df_res.approxQuantile(\"actual_worth\", [0.25, 0.5, 0.75], 0.01)\n",
        "print(f\"25th percentile: {quantiles[0]}, Median (50th percentile): {quantiles[1]}, 75th percentile: {quantiles[2]}\")"
      ],
      "metadata": {
        "colab": {
          "base_uri": "https://localhost:8080/"
        },
        "id": "X3EBCliGCP9O",
        "outputId": "7b1be7ed-2cd1-4b41-e176-88c4a835a2dc"
      },
      "execution_count": null,
      "outputs": [
        {
          "output_type": "stream",
          "name": "stdout",
          "text": [
            "25th percentile: 690000.0, Median (50th percentile): 1226888.0, 75th percentile: 2200000.0\n"
          ]
        }
      ]
    },
    {
      "cell_type": "markdown",
      "source": [
        "\n",
        "\n",
        "Skewness: the difference between the median (1.22 million) and the 75th percentile (2.2 million) is significant, indicating that the data is skewed. Additionally, if we compare the 25th percentile (690 000) and median (1.2 million), the median is much higher than the 25th percentile, suggesting that most of the data is clustered towards the lower end, and the tail on the higher end is longer => positively skewed distribution."
      ],
      "metadata": {
        "id": "A7zS3jx4DhA0"
      }
    },
    {
      "cell_type": "code",
      "source": [
        "import matplotlib.pyplot as plt\n",
        "import numpy as np\n",
        "\n",
        "df_pd = df_res.select(\"actual_worth\").toPandas()\n",
        "\n",
        "mean_value = df_pd[\"actual_worth\"].mean()\n",
        "std_dev = df_pd[\"actual_worth\"].std()\n",
        "\n",
        "plt.figure(figsize=(10, 6))\n",
        "plt.hist(df_pd[\"actual_worth\"], bins=50, color='skyblue', edgecolor='black', alpha=0.7)\n",
        "\n",
        "plt.axvline(mean_value, color='red', linestyle='dashed', linewidth=2, label='Mean')\n",
        "plt.axvline(mean_value + std_dev, color='green', linestyle='dashed', linewidth=2, label='+1 Std Dev')\n",
        "plt.axvline(mean_value - std_dev, color='green', linestyle='dashed', linewidth=2, label='-1 Std Dev')\n",
        "\n",
        "plt.title('Distribution of Actual Worth with Standard Deviation')\n",
        "plt.xlabel('Actual Worth')\n",
        "plt.ylabel('Frequency')\n",
        "plt.legend()\n",
        "\n",
        "plt.show()"
      ],
      "metadata": {
        "colab": {
          "base_uri": "https://localhost:8080/",
          "height": 564
        },
        "id": "sEtbAOJdCpJx",
        "outputId": "0afcf855-234f-453e-b805-32b6a18ed6e8"
      },
      "execution_count": null,
      "outputs": [
        {
          "output_type": "display_data",
          "data": {
            "text/plain": [
              "<Figure size 1000x600 with 1 Axes>"
            ],
            "image/png": "[encoded data removed]"
          },
          "metadata": {}
        }
      ]
    },
    {
      "cell_type": "code",
      "source": [
        "import seaborn as sns\n",
        "\n",
        "plt.figure(figsize=(8, 6))\n",
        "sns.boxplot(data=df_pd, x=\"actual_worth\", color='lightblue')\n",
        "\n",
        "plt.title('Box Plot of Actual Worth (Outliers)')\n",
        "plt.xlabel('Actual Worth')\n",
        "\n",
        "plt.show()"
      ],
      "metadata": {
        "colab": {
          "base_uri": "https://localhost:8080/",
          "height": 564
        },
        "id": "o6WAjuehDOXo",
        "outputId": "78853ca8-2b68-43a1-fc9d-7046f466887c"
      },
      "execution_count": null,
      "outputs": [
        {
          "output_type": "display_data",
          "data": {
            "text/plain": [
              "<Figure size 800x600 with 1 Axes>"
            ],
            "image/png": "[encoded data removed]"
          },
          "metadata": {}
        }
      ]
    },
    {
      "cell_type": "markdown",
      "source": [
        "Max value 3.013326074E9 and min value 1 are outliners."
      ],
      "metadata": {
        "id": "lTgqA1GpDvra"
      }
    },
    {
      "cell_type": "code",
      "source": [
        "# clean data, removing outliners\n",
        "quantiles = df_res.approxQuantile(\"actual_worth\", [0.02, 0.98], 0.01)\n",
        "lower_percentile, upper_percentile = quantiles[0], quantiles[1]\n",
        "\n",
        "cleaned_df = df_res.filter((F.col(\"actual_worth\") >= lower_percentile) & (F.col(\"actual_worth\") <= upper_percentile))\n",
        "\n",
        "cleaned_df.select(\"actual_worth\").describe().show()"
      ],
      "metadata": {
        "colab": {
          "base_uri": "https://localhost:8080/"
        },
        "id": "yAn7E82XD-UJ",
        "outputId": "3ca6f695-4b50-4df7-ed8f-cd50fc221930"
      },
      "execution_count": null,
      "outputs": [
        {
          "output_type": "stream",
          "name": "stdout",
          "text": [
            "+-------+------------------+\n",
            "|summary|      actual_worth|\n",
            "+-------+------------------+\n",
            "|  count|           1052235|\n",
            "|   mean|1616559.6909815774|\n",
            "| stddev|1271538.3051492632|\n",
            "|    min|          250000.0|\n",
            "|    max|         7706100.0|\n",
            "+-------+------------------+\n",
            "\n"
          ]
        }
      ]
    },
    {
      "cell_type": "code",
      "source": [
        "cleaned_df_pd = cleaned_df.select(\"actual_worth\").toPandas()\n",
        "\n",
        "mean_value = cleaned_df_pd[\"actual_worth\"].mean()\n",
        "std_dev = cleaned_df_pd[\"actual_worth\"].std()\n",
        "\n",
        "plt.figure(figsize=(10, 6))\n",
        "plt.hist(cleaned_df_pd[\"actual_worth\"], bins=50, color='skyblue', edgecolor='black', alpha=0.7)\n",
        "\n",
        "plt.axvline(mean_value, color='red', linestyle='dashed', linewidth=2, label='Mean')\n",
        "plt.axvline(mean_value + std_dev, color='green', linestyle='dashed', linewidth=2, label='+1 Std Dev')\n",
        "plt.axvline(mean_value - std_dev, color='green', linestyle='dashed', linewidth=2, label='-1 Std Dev')\n",
        "\n",
        "plt.title('Distribution of Actual Worth with Standard Deviation After Cleaning')\n",
        "plt.xlabel('Actual Worth')\n",
        "plt.ylabel('Frequency')\n",
        "plt.legend()\n",
        "\n",
        "plt.show()"
      ],
      "metadata": {
        "colab": {
          "base_uri": "https://localhost:8080/",
          "height": 564
        },
        "id": "ICJJ_6qeEhWn",
        "outputId": "2ab2e8d8-b28a-498f-a62e-017ec4067135"
      },
      "execution_count": null,
      "outputs": [
        {
          "output_type": "display_data",
          "data": {
            "text/plain": [
              "<Figure size 1000x600 with 1 Axes>"
            ],
            "image/png": "[encoded data removed]"
          },
          "metadata": {}
        }
      ]
    },
    {
      "cell_type": "code",
      "source": [
        "plt.figure(figsize=(8, 6))\n",
        "sns.boxplot(data=cleaned_df_pd, x=\"actual_worth\", color='lightblue')\n",
        "\n",
        "plt.title('Box Plot of Actual Worth (Outliers) After Cleaning')\n",
        "plt.xlabel('Actual Worth')\n",
        "\n",
        "plt.show()"
      ],
      "metadata": {
        "colab": {
          "base_uri": "https://localhost:8080/",
          "height": 564
        },
        "id": "YyRkN4V3E029",
        "outputId": "a1850cf7-2237-46cb-a4da-d1fdb91ba3d1"
      },
      "execution_count": null,
      "outputs": [
        {
          "output_type": "display_data",
          "data": {
            "text/plain": [
              "<Figure size 800x600 with 1 Axes>"
            ],
            "image/png": "[encoded data removed]"
          },
          "metadata": {}
        }
      ]
    },
    {
      "cell_type": "code",
      "source": [
        "cleaned_df.select(\"procedure_area\").describe().show()\n",
        "quantiles_area = cleaned_df.approxQuantile(\"procedure_area\", [0.25, 0.5, 0.75], 0.01)\n",
        "print(f\"25th percentile: {quantiles_area[0]}, Median (50th percentile): {quantiles_area[1]}, 75th percentile: {quantiles_area[2]}\")"
      ],
      "metadata": {
        "colab": {
          "base_uri": "https://localhost:8080/"
        },
        "id": "zpHVLaNnqoYR",
        "outputId": "d58dda70-7bba-47a3-a720-271a95f53986"
      },
      "execution_count": null,
      "outputs": [
        {
          "output_type": "stream",
          "name": "stdout",
          "text": [
            "+-------+------------------+\n",
            "|summary|    procedure_area|\n",
            "+-------+------------------+\n",
            "|  count|           1052235|\n",
            "|   mean|192.72378886845792|\n",
            "| stddev| 287.0496876698436|\n",
            "|    min|              0.01|\n",
            "|    max|          55362.94|\n",
            "+-------+------------------+\n",
            "\n",
            "25th percentile: 68.69, Median (50th percentile): 104.67, 75th percentile: 180.42\n"
          ]
        }
      ]
    },
    {
      "cell_type": "code",
      "source": [
        "import matplotlib.pyplot as plt\n",
        "import numpy as np\n",
        "\n",
        "df_pd = cleaned_df.select(\"procedure_area\").toPandas()\n",
        "\n",
        "mean_value = df_pd[\"procedure_area\"].mean()\n",
        "std_dev = df_pd[\"procedure_area\"].std()\n",
        "\n",
        "plt.figure(figsize=(10, 6))\n",
        "plt.hist(df_pd[\"procedure_area\"], bins=50, color='skyblue', edgecolor='black', alpha=0.7)\n",
        "\n",
        "plt.axvline(mean_value, color='red', linestyle='dashed', linewidth=2, label='Mean')\n",
        "plt.axvline(mean_value + std_dev, color='green', linestyle='dashed', linewidth=2, label='+1 Std Dev')\n",
        "plt.axvline(mean_value - std_dev, color='green', linestyle='dashed', linewidth=2, label='-1 Std Dev')\n",
        "\n",
        "plt.title('Distribution of Procedure area with Standard Deviation')\n",
        "plt.xlabel('Procedure area')\n",
        "plt.ylabel('Frequency')\n",
        "plt.legend()\n",
        "\n",
        "plt.show()"
      ],
      "metadata": {
        "colab": {
          "base_uri": "https://localhost:8080/",
          "height": 564
        },
        "id": "O4zza1c9qsKE",
        "outputId": "3ade08ca-8b9a-4df6-e6a2-1c5b798e4606"
      },
      "execution_count": null,
      "outputs": [
        {
          "output_type": "display_data",
          "data": {
            "text/plain": [
              "<Figure size 1000x600 with 1 Axes>"
            ],
            "image/png": "[encoded data removed]"
          },
          "metadata": {}
        }
      ]
    },
    {
      "cell_type": "code",
      "source": [
        "quantiles_area = cleaned_df.approxQuantile(\"procedure_area\", [0.02, 0.90], 0.01)\n",
        "lower_percentile, upper_percentile = quantiles_area[0], quantiles_area[1]\n",
        "filtered_df = cleaned_df.filter((F.col(\"procedure_area\") >= lower_percentile) & (F.col(\"procedure_area\") <= upper_percentile))\n",
        "filtered_df.select(\"procedure_area\").describe().show()"
      ],
      "metadata": {
        "colab": {
          "base_uri": "https://localhost:8080/"
        },
        "id": "JkOWXDJUq25x",
        "outputId": "286cb21c-c7ee-4daf-dbb5-9c81f87dc42a"
      },
      "execution_count": null,
      "outputs": [
        {
          "output_type": "stream",
          "name": "stdout",
          "text": [
            "+-------+-----------------+\n",
            "|summary|   procedure_area|\n",
            "+-------+-----------------+\n",
            "|  count|           922533|\n",
            "|   mean|118.2313090263434|\n",
            "| stddev|72.12366714992025|\n",
            "|    min|             34.5|\n",
            "|    max|           385.36|\n",
            "+-------+-----------------+\n",
            "\n"
          ]
        }
      ]
    },
    {
      "cell_type": "code",
      "source": [
        "filtered_df.count()"
      ],
      "metadata": {
        "colab": {
          "base_uri": "https://localhost:8080/"
        },
        "id": "fSTz6YhGuQ-E",
        "outputId": "609e518e-ef46-4b1a-fd98-ce8b3d1dd49e"
      },
      "execution_count": null,
      "outputs": [
        {
          "output_type": "execute_result",
          "data": {
            "text/plain": [
              "922533"
            ]
          },
          "metadata": {},
          "execution_count": 88
        }
      ]
    },
    {
      "cell_type": "code",
      "source": [
        "filtered_df_pd = filtered_df.select(\"procedure_area\").toPandas()\n",
        "\n",
        "mean_value = cleaned_df_pd[\"procedure_area\"].mean()\n",
        "std_dev = cleaned_df_pd[\"procedure_area\"].std()\n",
        "\n",
        "plt.figure(figsize=(10, 6))\n",
        "plt.hist(cleaned_df_pd[\"procedure_area\"], bins=50, color='skyblue', edgecolor='black', alpha=0.7)\n",
        "\n",
        "plt.axvline(mean_value, color='red', linestyle='dashed', linewidth=2, label='Mean')\n",
        "plt.axvline(mean_value + std_dev, color='green', linestyle='dashed', linewidth=2, label='+1 Std Dev')\n",
        "plt.axvline(mean_value - std_dev, color='green', linestyle='dashed', linewidth=2, label='-1 Std Dev')\n",
        "\n",
        "plt.title('Distribution of Procedure area with Standard Deviation After Cleaning')\n",
        "plt.xlabel('Procedure area')\n",
        "plt.ylabel('Frequency')\n",
        "plt.legend()\n",
        "\n",
        "plt.show()"
      ],
      "metadata": {
        "colab": {
          "base_uri": "https://localhost:8080/",
          "height": 564
        },
        "id": "HeirjdDgq_Ah",
        "outputId": "002c1dae-e0b6-461a-a1cd-688fdd827b01"
      },
      "execution_count": null,
      "outputs": [
        {
          "output_type": "display_data",
          "data": {
            "text/plain": [
              "<Figure size 1000x600 with 1 Axes>"
            ],
            "image/png": "[encoded data removed]"
          },
          "metadata": {}
        }
      ]
    },
    {
      "cell_type": "code",
      "source": [
        "area_counts = filtered_df.groupBy('area_name_en').count()\n",
        "area_counts.show()"
      ],
      "metadata": {
        "colab": {
          "base_uri": "https://localhost:8080/"
        },
        "id": "KehWNqytxHBH",
        "outputId": "c096cf3c-2897-4d87-8a44-1381992be49f"
      },
      "execution_count": null,
      "outputs": [
        {
          "output_type": "stream",
          "name": "stdout",
          "text": [
            "+--------------------+-----+\n",
            "|        area_name_en|count|\n",
            "+--------------------+-----+\n",
            "|    Um Hurair Second|  177|\n",
            "|        Al Rashidiya|  585|\n",
            "|         Al Khabeesi|    3|\n",
            "|Al Barsha South F...| 9668|\n",
            "|          Al Kheeran|  914|\n",
            "|      Al Twar Second|   13|\n",
            "|     Um Suqaim First|   23|\n",
            "|  Nad Al Shiba First| 5158|\n",
            "|       Al Yelayiss 1| 9968|\n",
            "|       Saih Shuaib 2|  861|\n",
            "|Al Barsha South F...|71945|\n",
            "|        Business Bay|58820|\n",
            "|             Al Wasl| 8569|\n",
            "|Dubai Investment ...| 4918|\n",
            "|     Um Suqaim Third| 3549|\n",
            "|       Zaabeel First| 1853|\n",
            "|   Madinat Al Mataar|17872|\n",
            "|              Mirdif| 2459|\n",
            "|             Al Bada|  377|\n",
            "|         Al Yufrah 1| 6023|\n",
            "+--------------------+-----+\n",
            "only showing top 20 rows\n",
            "\n"
          ]
        }
      ]
    },
    {
      "cell_type": "code",
      "source": [
        "unique_areas_count = filtered_df.select('area_name_en').distinct().count()\n",
        "print(f'number of areas before filtering: {unique_areas_count}')\n",
        "\n",
        "area_df = filtered_df.groupBy('area_name_en').count().filter('count > 5')\n",
        "print(f'number of areas after filtering: {area_df.count()}')"
      ],
      "metadata": {
        "colab": {
          "base_uri": "https://localhost:8080/"
        },
        "id": "74XoSjIutPa9",
        "outputId": "09d4c126-7b35-4179-c7f4-bb48b2a22bd0"
      },
      "execution_count": null,
      "outputs": [
        {
          "output_type": "stream",
          "name": "stdout",
          "text": [
            "number of areas before filtering: 121\n",
            "number of areas after filtering: 108\n"
          ]
        }
      ]
    },
    {
      "cell_type": "code",
      "source": [
        "areas_to_keep = area_df.select('area_name_en')"
      ],
      "metadata": {
        "id": "Qe4GtIn2xPV_"
      },
      "execution_count": null,
      "outputs": []
    },
    {
      "cell_type": "code",
      "source": [
        "print(f'Number of rows before filtering: {filtered_df.count()}')\n",
        "\n",
        "updated_df = filtered_df.join(areas_to_keep, on='area_name_en', how='inner')\n",
        "print(f'Number of rows after filtering: {updated_df.count()}')"
      ],
      "metadata": {
        "colab": {
          "base_uri": "https://localhost:8080/"
        },
        "id": "gKP-y2l-xj8X",
        "outputId": "01290d79-dbac-4adb-e3fe-f9d759d6a52d"
      },
      "execution_count": null,
      "outputs": [
        {
          "output_type": "stream",
          "name": "stdout",
          "text": [
            "Number of rows before filtering: 922533\n",
            "Number of rows after filtering: 922507\n"
          ]
        }
      ]
    },
    {
      "cell_type": "code",
      "source": [
        "updated_df.write.format(\"parquet\").mode(\"overwrite\").save(\"/content/drive_new/MyDrive/cleaned_dataset\")"
      ],
      "metadata": {
        "id": "qO4kFt1Qx3d7"
      },
      "execution_count": null,
      "outputs": []
    },
    {
      "cell_type": "code",
      "source": [
        "from google.colab import drive\n",
        "drive.mount('/content/drive_new')"
      ],
      "metadata": {
        "id": "rMq3Gro5z1dG"
      },
      "execution_count": null,
      "outputs": []
    },
    {
      "cell_type": "code",
      "source": [
        "cleaned_df.write.format(\"parquet\").mode(\"overwrite\").save(\"/content/drive_new/MyDrive/cleaned_dataset\")"
      ],
      "metadata": {
        "id": "DUrUDz4Dz5bw"
      },
      "execution_count": null,
      "outputs": []
    }
  ]
}